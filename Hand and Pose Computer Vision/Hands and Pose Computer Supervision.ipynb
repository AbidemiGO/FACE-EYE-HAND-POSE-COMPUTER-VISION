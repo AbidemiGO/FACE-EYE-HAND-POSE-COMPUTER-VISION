{
 "cells": [
  {
   "cell_type": "code",
   "execution_count": 1,
   "id": "12f148f3",
   "metadata": {
    "scrolled": true
   },
   "outputs": [
    {
     "name": "stdout",
     "output_type": "stream",
     "text": [
      "Requirement already satisfied: mediapipe in c:\\users\\dell pro\\appdata\\roaming\\python\\python310\\site-packages (0.10.3)\n",
      "Requirement already satisfied: matplotlib in c:\\users\\dell pro\\anaconda3\\lib\\site-packages (from mediapipe) (3.7.0)\n",
      "Requirement already satisfied: absl-py in c:\\users\\dell pro\\appdata\\roaming\\python\\python310\\site-packages (from mediapipe) (1.4.0)\n",
      "Requirement already satisfied: protobuf<4,>=3.11 in c:\\users\\dell pro\\anaconda3\\lib\\site-packages (from mediapipe) (3.20.3)\n",
      "Requirement already satisfied: numpy in c:\\users\\dell pro\\anaconda3\\lib\\site-packages (from mediapipe) (1.23.5)\n",
      "Requirement already satisfied: opencv-contrib-python in c:\\users\\dell pro\\appdata\\roaming\\python\\python310\\site-packages (from mediapipe) (4.8.0.76)\n",
      "Requirement already satisfied: attrs>=19.1.0 in c:\\users\\dell pro\\anaconda3\\lib\\site-packages (from mediapipe) (22.1.0)\n",
      "Requirement already satisfied: flatbuffers>=2.0 in c:\\users\\dell pro\\anaconda3\\lib\\site-packages (from mediapipe) (23.5.26)\n",
      "Requirement already satisfied: sounddevice>=0.4.4 in c:\\users\\dell pro\\appdata\\roaming\\python\\python310\\site-packages (from mediapipe) (0.4.6)\n",
      "Requirement already satisfied: CFFI>=1.0 in c:\\users\\dell pro\\anaconda3\\lib\\site-packages (from sounddevice>=0.4.4->mediapipe) (1.15.1)\n",
      "Requirement already satisfied: packaging>=20.0 in c:\\users\\dell pro\\anaconda3\\lib\\site-packages (from matplotlib->mediapipe) (22.0)\n",
      "Requirement already satisfied: kiwisolver>=1.0.1 in c:\\users\\dell pro\\anaconda3\\lib\\site-packages (from matplotlib->mediapipe) (1.4.4)\n",
      "Requirement already satisfied: fonttools>=4.22.0 in c:\\users\\dell pro\\anaconda3\\lib\\site-packages (from matplotlib->mediapipe) (4.25.0)\n",
      "Requirement already satisfied: python-dateutil>=2.7 in c:\\users\\dell pro\\anaconda3\\lib\\site-packages (from matplotlib->mediapipe) (2.8.2)\n",
      "Requirement already satisfied: cycler>=0.10 in c:\\users\\dell pro\\anaconda3\\lib\\site-packages (from matplotlib->mediapipe) (0.11.0)\n",
      "Requirement already satisfied: contourpy>=1.0.1 in c:\\users\\dell pro\\anaconda3\\lib\\site-packages (from matplotlib->mediapipe) (1.0.5)\n",
      "Requirement already satisfied: pillow>=6.2.0 in c:\\users\\dell pro\\anaconda3\\lib\\site-packages (from matplotlib->mediapipe) (9.4.0)\n",
      "Requirement already satisfied: pyparsing>=2.3.1 in c:\\users\\dell pro\\anaconda3\\lib\\site-packages (from matplotlib->mediapipe) (3.0.9)\n",
      "Requirement already satisfied: pycparser in c:\\users\\dell pro\\anaconda3\\lib\\site-packages (from CFFI>=1.0->sounddevice>=0.4.4->mediapipe) (2.21)\n",
      "Requirement already satisfied: six>=1.5 in c:\\users\\dell pro\\anaconda3\\lib\\site-packages (from python-dateutil>=2.7->matplotlib->mediapipe) (1.16.0)\n",
      "Note: you may need to restart the kernel to use updated packages.\n"
     ]
    }
   ],
   "source": [
    " # pip install mediapipe --user"
   ]
  },
  {
   "cell_type": "code",
   "execution_count": 3,
   "id": "5e6820aa",
   "metadata": {},
   "outputs": [],
   "source": [
    "# Importing neccesary libraries\n",
    "import mediapipe as mp\n",
    "import cv2"
   ]
  },
  {
   "cell_type": "markdown",
   "id": "655a3627",
   "metadata": {},
   "source": [
    "### Hand Detection"
   ]
  },
  {
   "cell_type": "code",
   "execution_count": 26,
   "id": "d5f18134",
   "metadata": {},
   "outputs": [],
   "source": [
    "# identify webcam location\n",
    "capture = cv2.VideoCapture(0)"
   ]
  },
  {
   "cell_type": "code",
   "execution_count": 27,
   "id": "fa697d10",
   "metadata": {},
   "outputs": [],
   "source": [
    "# Levearging the mediapipe libraries for hand detection\n",
    "mpHands= mp.solutions.hands\n",
    "hands= mpHands.Hands()\n",
    "mpDraw= mp.solutions.drawing_utils\n"
   ]
  },
  {
   "cell_type": "code",
   "execution_count": 28,
   "id": "428e9c68",
   "metadata": {},
   "outputs": [],
   "source": [
    "# switch on webcam\n",
    "while True:\n",
    "    ret, img = capture.read()\n",
    "    \n",
    "    # convert image from BGR to RGB\n",
    "    imgRGB= cv2.cvtColor(img, cv2.COLOR_BGR2RGB)\n",
    "    \n",
    "    # Apply mediapipe\n",
    "    results= hands.process(imgRGB)\n",
    "    \n",
    "    # print(results.multi_hand_landmarks)\n",
    "    \n",
    "    if results.multi_hand_landmarks:\n",
    "        for handLms in results.multi_hand_landmarks:\n",
    "            for id, lm in enumerate(handLms.landmark):\n",
    "                # print(id, lm)\n",
    "                \n",
    "                mpDraw.draw_landmarks(img, handLms, mpHands.HAND_CONNECTIONS)\n",
    "                \n",
    "    \n",
    "    cv2.putText(img,'10alytics hand detection project', (10,70), cv2.FONT_HERSHEY_PLAIN, 3, (255,255,255), 2)\n",
    "    cv2.imshow('10alytics hand detection project', img)\n",
    "    if cv2.waitKey(1) & 0xFF == ord('q'):\n",
    "        break\n",
    "# release when the process is done\n",
    "capture.release()\n",
    "cv2.destroyAllWindows()"
   ]
  },
  {
   "cell_type": "code",
   "execution_count": null,
   "id": "fe76fc5b",
   "metadata": {},
   "outputs": [],
   "source": []
  },
  {
   "cell_type": "markdown",
   "id": "b7503f87",
   "metadata": {},
   "source": [
    "### Pose Detection"
   ]
  },
  {
   "cell_type": "code",
   "execution_count": 31,
   "id": "1be3459e",
   "metadata": {},
   "outputs": [],
   "source": [
    "# identify webcam location\n",
    "cap = cv2.VideoCapture(0)"
   ]
  },
  {
   "cell_type": "code",
   "execution_count": 32,
   "id": "9322e1a1",
   "metadata": {},
   "outputs": [],
   "source": [
    "# Levearging the mediapipe libraries for hand detection\n",
    "mpPose= mp.solutions.pose\n",
    "pose= mpPose.Pose()\n",
    "# pose= mpPose.Pose(static_image_m;de= False, upper_body_only= False,smooth_landmarks=True, min_detection_confidence=0.5, min_tracking_confidence=0.5) \n",
    "# T draw and connect the landmarks\n",
    "mpDraw= mp.solutions.drawing_utils"
   ]
  },
  {
   "cell_type": "code",
   "execution_count": 33,
   "id": "4f00d303",
   "metadata": {},
   "outputs": [],
   "source": [
    "# switch on webcam\n",
    "while True:\n",
    "    ret, img = cap.read()\n",
    "    \n",
    "    # convert video/image from BGR to RGB\n",
    "    imgRGB= cv2.cvtColor(img, cv2.COLOR_BGR2RGB)\n",
    "    \n",
    "    # Apply mediapipe\n",
    "    results= pose.process(imgRGB)\n",
    "    \n",
    "    # print(results.pose_landmarks)\n",
    "    \n",
    "    if results.pose_landmarks:\n",
    "        \n",
    "        mpDraw.draw_landmarks(img, results.pose_landmarks, mpPose.POSE_CONNECTIONS)\n",
    "                \n",
    "    \n",
    "    cv2.putText(img,'10alytics pose detection project', (10,50), cv2.FONT_HERSHEY_PLAIN, 2, (255,255,255), 2)\n",
    "    cv2.imshow('10alytics hand detection project', img)\n",
    "    if cv2.waitKey(1) & 0xFF == ord('q'):\n",
    "        break\n",
    "# release when the process is done\n",
    "cap.release()\n",
    "cv2.destroyAllWindows()"
   ]
  },
  {
   "cell_type": "code",
   "execution_count": null,
   "id": "f640961d",
   "metadata": {},
   "outputs": [],
   "source": []
  }
 ],
 "metadata": {
  "kernelspec": {
   "display_name": "Python 3 (ipykernel)",
   "language": "python",
   "name": "python3"
  },
  "language_info": {
   "codemirror_mode": {
    "name": "ipython",
    "version": 3
   },
   "file_extension": ".py",
   "mimetype": "text/x-python",
   "name": "python",
   "nbconvert_exporter": "python",
   "pygments_lexer": "ipython3",
   "version": "3.10.9"
  }
 },
 "nbformat": 4,
 "nbformat_minor": 5
}
